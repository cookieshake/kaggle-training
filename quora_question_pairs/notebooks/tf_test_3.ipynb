{
 "cells": [
  {
   "cell_type": "code",
   "execution_count": 1,
   "metadata": {
    "collapsed": true
   },
   "outputs": [],
   "source": [
    "import tensorflow as tf\n",
    "from tensorflow.contrib import rnn\n",
    "\n",
    "import pandas as pd\n",
    "import numpy as np\n",
    "import spacy\n",
    "\n",
    "nlp = spacy.load('en')\n",
    "\n",
    "dtypes ={\n",
    "    'id': np.uint32,\n",
    "    'qid1': np.uint32,\n",
    "    'qid2': np.uint32,\n",
    "    'question1': np.str,\n",
    "    'question2': np.str,\n",
    "    'is_duplicate': np.uint8\n",
    "}\n",
    "\n",
    "df_chunks = pd.read_csv('../../dataset/quora_train.csv.zip', dtype=dtypes, compression='zip',\n",
    "                 usecols=['question1', 'question2', 'is_duplicate'], iterator=True, chunksize=100)\n",
    "df_test = pd.read_csv('../../dataset/quora_train.csv.zip', dtype=dtypes, compression='zip',\n",
    "                 usecols=['question1', 'question2', 'is_duplicate'], nrows=1000)"
   ]
  },
  {
   "cell_type": "code",
   "execution_count": 2,
   "metadata": {
    "collapsed": true
   },
   "outputs": [],
   "source": [
    "def parse_df(df):\n",
    "    def pad(v):\n",
    "        zeros = np.zeros([200, 300])\n",
    "        zeros[:v.shape[0],:v.shape[1]] = v\n",
    "        return zeros\n",
    "\n",
    "    def sorted_vec(doc):\n",
    "        t_list = [t for t in doc if not t.is_stop]\n",
    "        t_list = [t.vector for t in t_list]\n",
    "        return np.matrix(t_list)\n",
    "\n",
    "    q1s = df['question1'].map(str).map(nlp).map(sorted_vec)\n",
    "    q1l = q1s.map(lambda x: x.shape[0])\n",
    "    q1s = q1s.map(pad)\n",
    "    \n",
    "    q2s = df['question2'].map(str).map(nlp).map(sorted_vec)\n",
    "    q2l = q2s.map(lambda x: x.shape[0])\n",
    "    q2s = q2s.map(pad)\n",
    "    \n",
    "    q1m = np.stack(q1s.values)\n",
    "    q2m = np.stack(q2s.values)\n",
    "    labels = df['is_duplicate'].values\n",
    "\n",
    "    return q1m, q2m, q1l, q2l, labels"
   ]
  },
  {
   "cell_type": "code",
   "execution_count": 8,
   "metadata": {},
   "outputs": [],
   "source": [
    "tf.reset_default_graph()\n",
    "keep_prob = tf.placeholder(tf.float32)\n",
    "\n",
    "def extract_axis_1(data, ind):\n",
    "    batch_range = tf.range(tf.shape(data)[0])\n",
    "    indices = tf.stack([batch_range, ind], axis=1)\n",
    "    res = tf.gather_nd(data, indices)\n",
    "    return res\n",
    "\n",
    "def lstm_cell():\n",
    "    cell = tf.contrib.rnn.BasicLSTMCell(256)\n",
    "    #return tf.contrib.rnn.DropoutWrapper(cell, output_keep_prob=keep_prob)\n",
    "    return cell\n",
    "\n",
    "def lstm_cell2():\n",
    "    cell = tf.contrib.rnn.BasicLSTMCell(256, reuse=True)\n",
    "    #return tf.contrib.rnn.DropoutWrapper(cell, output_keep_prob=keep_prob)\n",
    "    return cell\n",
    "\n",
    "def length(sequence):\n",
    "    used = tf.sign(tf.reduce_max(tf.abs(sequence), reduction_indices=2))\n",
    "    length = tf.reduce_sum(used, reduction_indices=1)\n",
    "    length = tf.cast(length, tf.int32)\n",
    "    return length\n",
    "\n",
    "Q1 = tf.placeholder(tf.float32, shape=[None, 200, 300])\n",
    "Q2 = tf.placeholder(tf.float32, shape=[None, 200, 300])\n",
    "\n",
    "Q1l = tf.placeholder(tf.int32, shape=[None])\n",
    "Q2l = tf.placeholder(tf.int32, shape=[None])\n",
    "\n",
    "batch_size = tf.placeholder(tf.int32)\n",
    "is_dup = tf.placeholder(tf.uint8, shape=[None])\n",
    "dup_oh = tf.one_hot(is_dup, 2)\n",
    "\n",
    "cell1s = tf.contrib.rnn.MultiRNNCell([lstm_cell() for i in range(5)])\n",
    "cell2s = tf.contrib.rnn.MultiRNNCell([lstm_cell2() for i in range(5)])\n",
    "\n",
    "state = cell1s.zero_state(batch_size, dtype=tf.float32)\n",
    "\n",
    "outputs1, l_state1= tf.nn.dynamic_rnn(cell1s, Q1, sequence_length=Q1l, initial_state=state)\n",
    "outputs2, l_state2= tf.nn.dynamic_rnn(cell2s, Q2, sequence_length=Q2l, initial_state=state)\n",
    "\n",
    "sW = tf.get_variable(shape=[256, 256], initializer=tf.contrib.layers.xavier_initializer(), name='s-weight')\n",
    "sb = tf.get_variable(shape=[256], initializer=tf.contrib.layers.xavier_initializer(), name='s-bias')\n",
    "\n",
    "o1 = tf.matmul(l_state1[-1].h, sW) + sb\n",
    "#o1 = tf.nn.dropout(o1, keep_prob=keep_prob)\n",
    "\n",
    "o2 =tf.matmul(l_state2[-1].h, sW) + sb\n",
    "#o2 = tf.nn.dropout(o2, keep_prob=keep_prob)\n",
    "\n",
    "out = tf.concat([o1, o2], axis=1)"
   ]
  },
  {
   "cell_type": "code",
   "execution_count": 9,
   "metadata": {
    "scrolled": true
   },
   "outputs": [],
   "source": [
    "#out = tf.nn.dropout(out, keep_prob=keep_prob)\n",
    "\n",
    "W1 = tf.get_variable(shape=[512, 512], initializer=tf.contrib.layers.xavier_initializer(), name='weight1')\n",
    "b1 = tf.get_variable(shape=[512], initializer=tf.contrib.layers.xavier_initializer(), name='bias1')\n",
    "y1 = tf.nn.relu(tf.matmul(out, W1) + b1)\n",
    "y1 = tf.nn.dropout(y1, keep_prob=keep_prob)\n",
    "\n",
    "W2 = tf.get_variable(shape=[512, 2], initializer=tf.contrib.layers.xavier_initializer(), name='weight2')\n",
    "b2 = tf.get_variable(shape=[2], initializer=tf.contrib.layers.xavier_initializer(), name='bias2')\n",
    "y2 = tf.matmul(y1, W2) + b2"
   ]
  },
  {
   "cell_type": "code",
   "execution_count": 10,
   "metadata": {},
   "outputs": [],
   "source": [
    "cost = tf.nn.softmax_cross_entropy_with_logits(logits=y2, labels=dup_oh)\n",
    "cost = tf.reduce_mean(cost)\n",
    "\n",
    "optimizer = tf.train.AdamOptimizer(learning_rate=0.01).minimize(cost)"
   ]
  },
  {
   "cell_type": "code",
   "execution_count": 11,
   "metadata": {
    "collapsed": true
   },
   "outputs": [],
   "source": [
    "sess = tf.Session()\n",
    "sess.run(tf.global_variables_initializer())"
   ]
  },
  {
   "cell_type": "code",
   "execution_count": null,
   "metadata": {},
   "outputs": [
    {
     "name": "stderr",
     "output_type": "stream",
     "text": [
      "1it [00:04,  4.68s/it]"
     ]
    },
    {
     "name": "stdout",
     "output_type": "stream",
     "text": [
      "0.815576 0.806573\n"
     ]
    },
    {
     "name": "stderr",
     "output_type": "stream",
     "text": [
      "101it [03:56,  2.94s/it]"
     ]
    },
    {
     "name": "stdout",
     "output_type": "stream",
     "text": [
      "0.618459 0.625201\n"
     ]
    },
    {
     "name": "stderr",
     "output_type": "stream",
     "text": [
      "190it [07:48,  2.23s/it]"
     ]
    }
   ],
   "source": [
    "from tqdm import tqdm\n",
    "\n",
    "test_q1m, test_q2m, test_q1l, test_q2l, test_labels = parse_df(df_test)\n",
    "test_dict = {Q1: test_q1m, Q2: test_q2m, Q1l: test_q1l, Q2l: test_q2l, is_dup: test_labels, keep_prob: 1.0, batch_size: test_q1m.shape[0]}\n",
    "\n",
    "count = 0\n",
    "\n",
    "while True:\n",
    "    df_chunks = pd.read_csv('../../dataset/quora_train.csv.zip', dtype=dtypes, compression='zip',\n",
    "                 usecols=['question1', 'question2', 'is_duplicate'], iterator=True, chunksize=100)\n",
    "    for df in tqdm(df_chunks):\n",
    "        train_q1m, train_q2m, train_q1l, train_q2l, train_labels = parse_df(df)\n",
    "        train_dict1 = {Q1: train_q1m, Q2: train_q2m, Q1l: train_q1l, Q2l: train_q2l, is_dup: train_labels, keep_prob: 0.7, batch_size: train_q1m.shape[0]}\n",
    "        train_dict2 = {Q1: train_q2m, Q2: train_q1m, Q1l: train_q2l, Q2l: train_q1l, is_dup: train_labels, keep_prob: 0.7, batch_size: train_q1m.shape[0]}\n",
    "\n",
    "        sess.run(optimizer, feed_dict=train_dict1)\n",
    "        sess.run(optimizer, feed_dict=train_dict2)\n",
    "\n",
    "        if count % 100 == 0:\n",
    "            print(sess.run(cost, feed_dict=train_dict1), sess.run(cost, feed_dict=test_dict))\n",
    "\n",
    "        count += 1"
   ]
  },
  {
   "cell_type": "code",
   "execution_count": null,
   "metadata": {
    "collapsed": true
   },
   "outputs": [],
   "source": [
    "variables_names =[v.name for v in tf.trainable_variables()]\n",
    "values = sess.run(variables_names)\n",
    "for k,v in zip(variables_names, values):\n",
    "    print(k, v)"
   ]
  },
  {
   "cell_type": "code",
   "execution_count": 25,
   "metadata": {},
   "outputs": [
    {
     "name": "stdout",
     "output_type": "stream",
     "text": [
      "[ 7  3  5  2  4  8  1  1  2  2  4  5  3  2 11  4  3  7  7  3  3  3  3  2  7\n",
      "  6  3  5  4  2  4  5  5  9  3  6  6  9  2  4  2  3  4  6  5  4  5  7  6  3\n",
      "  4  3  1  4  3  2  2  4  9  3  5  4  3  2  4  5  3  4  4  8  2  3  2 10  4\n",
      "  8  4  5  3  3  7  4  9  2  5  2  5  3  3  5  5  4  3  2  2  3  2  2 12  3\n",
      "  5  3  6  3  4  1  4  4  4  6  1  3  4  4  4  4  5  5  9  2  4  5  2  3  4\n",
      "  6  3  4  7  2  1  3  5  5  4  2  4  3  3  3  2  2  1  4  8  5  2  6  3  5\n",
      "  2  3  4  2  1  1 10  3  5  2  3 10  4  5  3  2  3  5  3  7  3  2  4  5  4\n",
      "  3  2  3  4  3  3  3  4  2  4  8  5  8  4  4  3  2  3  5  5  2  4  5  1  5\n",
      "  3  6  4  3  9 10  3  5  6  2  6 14  6  3  6  3  4  4  5  3  2  2  2  5  3\n",
      "  5  9  3  3  6  4  4  7  5  7  3  3  5  5  4  2 11  5  4  6  4  1  2  9  5\n",
      "  2  3  5  3  3  1  4  5  5  5  7  5  3  4  2  3  8  9  4  2  2  4 12  5  4\n",
      "  5  5  3  4  2  2  5  6  6  3  4  2  3  4  5  4  5  1  2  2  6  2  4  6  2\n",
      "  2  2  3  2  2  8  7  4  3  2  3  2  7  3  3  3  9  5  1  3 15  4  3  3  4\n",
      "  4  5  2  2  2  5  4  2  5  2  5  3  4  9  4  2  1  1  7  4  5  3  3  5  4\n",
      "  4  6  7  3  6  5  6  5  4  1  2  1  3  6  2  2  2  4  3  3  3  8  1  3  2\n",
      " 11  2  4  4  2  1  2  8  5  3  3  3  3  3  2  5  2  2  1  6  1  2  4 13  4\n",
      "  3  3  6  2  4  3 10  4  3  3 10  5  4  7  6  3  1  4  5  3  1  3  3  7  3\n",
      "  6  2  8  3  5  3  3  4  4  3  1  3  2  3  7  5  2  2  4  3  1  3  2  6  8\n",
      "  2  2  7  2  4  3  2  5  5  3  1  4  3  5  1  7  8  4  3  5  6  3  3  5  2\n",
      "  3  4  3  4  2  4  4  3  3  7  2  4  8  4  5  2  2  4  1  4  3  3  2  5  4\n",
      "  5  2  3  3  2  5  6  3  3  4 11  2  2  3  3  3  7  4  2 11  5  4  2  4  3\n",
      "  2  3  5 12  3  5  9  3  3  1  6  4  4  3  5  4  4  2  6  2  3  3  3  3  3\n",
      "  2  5  5  5  4  3  4  3  3  3  4  6  5  2  3  3  3  5  3 10 10  4  4  5  5\n",
      "  4  8  3  4  2  1  4  5  6  2  2  4  9  5  3  6  3  3  2  6  3  2  5  3  4\n",
      "  2  3  4  3  4  2  5  5  4  2  8 10  5  1  3  5  5  2  4  2  4  4  2  4  5\n",
      "  2  3  2  4  5  4  2  4  3  3  2  5  7 13 11  6  3  4  4  3  2  8  4  4  6\n",
      "  4  5  2  4  5  4  2  2  2  3  1  4  3  4  3  2  2  3  3  2  6  5  7  2  3\n",
      "  6  4  6  3  2  7  7  3  4  8  6  2  2  2  4  2  3  2  3  4  4  2  4  4  5\n",
      "  3  4  3  5  3  0  3  4  6  3  1  4  2  3  3  2  3  3  4  3 10  5  1  3  4\n",
      "  4  4  2 11  3  8  2  6  4  2  4  2  2 10  5  4  3  8  3  4  5  3  5  7  8\n",
      "  3  5  1  4  4  4  2  1  3  4  4  3  2  4  1  9  4  4  3  7  8  4  4  4  4\n",
      " 14  4  4  9  3  5  3  8  4  7  4  3  1  4  4  5  2  6  3  2  4  3  5  5  4\n",
      "  4  5  7  3  5  3  6  8  2  6  6  2  1  4  9  2  7  2  5  4  2  5  5  4  5\n",
      "  4  1  3  6  3  3  5  3  3  3  3  4  2  2  2  4  4  4  2  9  3  3  3  1  5\n",
      "  4  2  4  3  3  3  4  6  6  3  5  3  9  5  8  3  4  1 12  3  5  4  4  3  3\n",
      " 11  5  4  6  3  5  7  4  3  5  4  4  8  1  3  6  5  2  4 11  1  4  4  5  3\n",
      "  5  3  2  3  4  5  6  2  2  4  2  9  3  3  6  4  2  3  2  3  7  7  1  6  2\n",
      "  3  5  5  4  3  3  4  7  6  3  3  3  4  3  4  3  4  1  5  3  4  1 11  3  2\n",
      "  2  4  3  3  4  4  8  3  2  5  3  7  3  3  5  7  4  5  4  3 11  2  4  2  3\n",
      "  9  4  2  3  2  3  2  5  3  2  5  3  6  3  3  1  4  5  3  7  9  5  2  8  3]\n"
     ]
    },
    {
     "data": {
      "text/plain": [
       "array([ -3.51859987e-01,   2.73759991e-01,  -3.39630008e-01,\n",
       "        -3.88150007e-01,  -4.25330013e-01,  -4.08050001e-01,\n",
       "         1.24700002e-01,   7.92670026e-02,   5.66660017e-02,\n",
       "         1.89230001e+00,  -4.44370002e-01,  -5.90170026e-01,\n",
       "        -2.01329999e-02,   1.26120001e-01,  -2.59180009e-01,\n",
       "        -3.94659996e-01,  -3.68379988e-02,   1.20550001e+00,\n",
       "        -1.89879999e-01,   2.62180001e-01,   4.81330007e-01,\n",
       "         1.39620006e-01,   3.37630004e-01,  -4.72519994e-02,\n",
       "         1.21480003e-01,  -7.33990014e-01,   6.50849998e-01,\n",
       "        -2.09180005e-02,  -1.98510006e-01,  -1.54819995e-01,\n",
       "        -1.35920003e-01,   1.41340002e-01,   1.41700000e-01,\n",
       "        -6.11919984e-02,   4.25099999e-01,  -2.00260002e-02,\n",
       "         8.82160008e-01,   1.62630007e-01,   2.53509998e-01,\n",
       "        -5.33110023e-01,   2.27740005e-01,  -3.65530014e-01,\n",
       "        -1.59669995e-01,  -1.34299994e-01,  -3.44110012e-01,\n",
       "         6.99680001e-02,   6.38230005e-03,   2.62230009e-01,\n",
       "        -5.19580007e-01,   7.69010037e-02,   1.20010003e-01,\n",
       "         4.96639997e-01,  -8.39980021e-02,   3.37750018e-02,\n",
       "        -4.16009992e-01,   3.86940002e-01,   2.03559995e-01,\n",
       "        -2.04769999e-01,   3.10880005e-01,   4.85949993e-01,\n",
       "        -2.51410007e-01,  -1.56590000e-01,  -3.96809995e-01,\n",
       "        -5.31490028e-01,   5.72220027e-01,  -2.98449993e-01,\n",
       "        -5.79599977e-01,   7.78980032e-02,   5.74349999e-01,\n",
       "        -3.24279994e-01,   1.56529993e-01,   3.72920007e-01,\n",
       "         1.68149993e-01,  -8.74769986e-02,   3.05409998e-01,\n",
       "         1.83440000e-01,   1.60920005e-02,  -6.57750010e-01,\n",
       "         2.04290003e-01,   3.87879997e-01,  -4.20969993e-01,\n",
       "        -2.57519990e-01,  -2.59559989e-01,  -1.35649994e-01,\n",
       "        -4.71399993e-01,  -3.78219992e-01,  -1.53029993e-01,\n",
       "        -2.52160013e-01,   3.84429991e-01,  -2.97110006e-02,\n",
       "        -5.33739984e-01,   1.88290000e-01,  -1.19000003e-01,\n",
       "         4.22540009e-01,   5.20379990e-02,   8.58469978e-02,\n",
       "        -1.24909997e-01,  -4.80980016e-02,   2.09340006e-01,\n",
       "        -7.48099983e-02,  -5.42180007e-03,   1.44600004e-01,\n",
       "         5.55499971e-01,  -3.55260015e-01,   1.39950007e-01,\n",
       "        -1.64409995e+00,   3.95289987e-01,   4.73960005e-02,\n",
       "        -3.55150014e-01,   2.81430006e-01,   2.26549998e-01,\n",
       "        -1.01729997e-01,  -6.95369989e-02,  -2.40089998e-01,\n",
       "        -1.91510007e-01,  -4.86750007e-02,  -4.28770006e-01,\n",
       "         5.82339987e-02,  -3.44720006e-01,  -3.79880011e-01,\n",
       "         3.95909995e-01,  -9.48780000e-01,   2.60019992e-02,\n",
       "        -3.04120004e-01,   2.77859986e-01,   3.62899989e-01,\n",
       "         1.50519997e-01,   8.35219979e-01,   2.12740004e-01,\n",
       "         1.22409999e-01,   3.14220011e-01,   3.48439991e-01,\n",
       "         1.00570004e-02,   4.21130002e-01,  -2.01100007e-01,\n",
       "         3.53009999e-01,   1.38679996e-01,   5.84449992e-02,\n",
       "        -2.39960000e-01,  -4.21800017e-02,  -7.02139974e-01,\n",
       "        -1.58690006e-01,  -1.56350002e-01,   2.60670006e-01,\n",
       "         4.11300004e-01,  -1.96789995e-01,  -4.66549993e-02,\n",
       "         9.26140025e-02,   3.16909999e-01,  -2.24450007e-01,\n",
       "         2.88329989e-01,   5.35250008e-01,  -2.65529990e-01,\n",
       "         4.11969982e-02,  -5.18050008e-02,   1.04860000e-01,\n",
       "        -6.53270036e-02,   2.80729998e-02,  -2.91009992e-01,\n",
       "        -2.41850004e-01,  -2.56139994e-01,  -6.56990036e-02,\n",
       "        -5.62139988e-01,   1.02499999e-01,   5.53089976e-01,\n",
       "        -7.40239993e-02,  -1.15010001e-01,  -4.13080007e-02,\n",
       "         5.42330027e-01,   1.15560003e-01,  -4.88530010e-01,\n",
       "         1.93619996e-01,   7.74770021e-01,  -3.30639988e-01,\n",
       "         6.03309982e-02,  -5.08400016e-02,  -3.16339999e-01,\n",
       "        -2.35290006e-01,   1.34419993e-01,  -1.19910002e-01,\n",
       "        -8.59699994e-02,   3.89070004e-01,   5.04410006e-02,\n",
       "         3.75369996e-01,   2.62290001e-01,  -3.94439995e-01,\n",
       "        -1.22330002e-01,  -2.89790004e-01,  -1.18519999e-01,\n",
       "         1.25110000e-01,  -1.72470007e-02,  -5.75459981e-03,\n",
       "        -7.60890022e-02,   2.72839993e-01,   2.62629986e-01,\n",
       "        -2.11919993e-01,   1.71499997e-01,   5.62259972e-01,\n",
       "        -3.07740003e-01,   5.25659978e-01,   1.16929999e-02,\n",
       "        -3.75669986e-01,  -9.95839983e-02,   3.93610001e-01,\n",
       "        -2.47630000e-01,  -3.13670009e-01,  -2.22870007e-01,\n",
       "         5.32819986e-01,   3.38569999e-01,   4.36360002e-01,\n",
       "         1.24740005e-02,  -5.09980023e-01,  -2.44660005e-01,\n",
       "        -2.71759987e-01,   4.92089987e-01,  -8.16529989e-01,\n",
       "        -5.18980026e-01,   5.83630025e-01,  -5.50459981e-01,\n",
       "         2.10370004e-01,   1.80710003e-01,  -2.44290009e-02,\n",
       "        -2.78299987e-01,  -3.90920006e-02,  -1.88710004e-01,\n",
       "         1.83660001e-01,   1.64580002e-01,   1.92389995e-01,\n",
       "        -6.24050014e-02,  -3.80640000e-01,   6.82350025e-02,\n",
       "         6.67029992e-02,   8.63260031e-02,   3.21559995e-01,\n",
       "        -2.16470003e-01,   2.39510000e-01,  -2.10079998e-01,\n",
       "        -1.33120000e-01,  -3.64019990e-01,   1.23259999e-01,\n",
       "         4.56979990e-01,   1.04520001e-01,  -2.02629998e-01,\n",
       "        -7.28029991e-03,  -1.82060003e-01,  -6.84530020e-01,\n",
       "         2.32779995e-01,  -3.04170012e-01,  -1.54689997e-01,\n",
       "        -1.28169999e-01,   2.42870003e-01,   3.37830007e-01,\n",
       "        -3.02399993e-01,   2.16570005e-01,   4.06139996e-03,\n",
       "        -7.11149991e-01,  -2.60199994e-01,   4.02049989e-01,\n",
       "         2.41040006e-01,  -3.27690005e-01,  -1.90510005e-01,\n",
       "         5.79670012e-01,   2.45949998e-02,  -3.22149992e-01,\n",
       "        -2.36330003e-01,  -3.34850013e-01,  -5.70810020e-01,\n",
       "         1.60469994e-01,   6.27210021e-01,   2.12720007e-01,\n",
       "         1.65909994e-03,   5.87870002e-01,  -1.28810003e-01,\n",
       "        -8.49770010e-02,  -6.55860007e-01,  -2.88080007e-01,\n",
       "        -8.45670030e-02,   2.11919993e-01,  -2.88500011e-01,\n",
       "         7.33579993e-02,   1.77479997e-01,   3.03259999e-01,\n",
       "         1.46950006e-01,   3.58110011e-01,   1.31860003e-01,\n",
       "        -5.40650010e-01,   2.36729994e-01,  -2.69329995e-01,\n",
       "        -5.40539980e-01,  -1.03469998e-01,   4.39860001e-02,\n",
       "        -1.75209999e-01,   9.11790039e-03,   7.38340020e-02,\n",
       "         1.13200001e-01,  -5.36759973e-01,   2.92540014e-01,\n",
       "        -4.35930006e-02,   1.60669997e-01,   4.63909991e-02], dtype=float32)"
      ]
     },
     "execution_count": 25,
     "metadata": {},
     "output_type": "execute_result"
    }
   ],
   "source": [
    "test_q1m, test_q2m, test_labels = parse_df(df_test)\n",
    "test_dict = {Q1: test_q1m, Q2: test_q2m, is_dup: test_labels, keep_prob: 1.0, batch_size: test_q1m.shape[0]}\n",
    "\n",
    "print(sess.run(length(Q1), feed_dict=test_dict))\n",
    "sess.run(Q1, feed_dict=test_dict)[3][1]"
   ]
  },
  {
   "cell_type": "code",
   "execution_count": 32,
   "metadata": {},
   "outputs": [
    {
     "data": {
      "text/plain": [
       "<tf.Tensor 'Sum:0' shape=(?, 1) dtype=float32>"
      ]
     },
     "execution_count": 32,
     "metadata": {},
     "output_type": "execute_result"
    }
   ],
   "source": [
    "diff"
   ]
  },
  {
   "cell_type": "code",
   "execution_count": 29,
   "metadata": {},
   "outputs": [
    {
     "data": {
      "text/plain": [
       "<tf.Tensor 'sub_1:0' shape=(?, 256) dtype=float32>"
      ]
     },
     "execution_count": 29,
     "metadata": {},
     "output_type": "execute_result"
    }
   ],
   "source": [
    "o1 - o2"
   ]
  },
  {
   "cell_type": "code",
   "execution_count": null,
   "metadata": {
    "collapsed": true
   },
   "outputs": [],
   "source": []
  }
 ],
 "metadata": {
  "kernelspec": {
   "display_name": "Python 3",
   "language": "python",
   "name": "python3"
  },
  "language_info": {
   "codemirror_mode": {
    "name": "ipython",
    "version": 3
   },
   "file_extension": ".py",
   "mimetype": "text/x-python",
   "name": "python",
   "nbconvert_exporter": "python",
   "pygments_lexer": "ipython3",
   "version": "3.6.1"
  }
 },
 "nbformat": 4,
 "nbformat_minor": 2
}
