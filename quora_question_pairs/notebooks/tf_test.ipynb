{
 "cells": [
  {
   "cell_type": "code",
   "execution_count": 41,
   "metadata": {},
   "outputs": [],
   "source": [
    "import tensorflow as tf\n",
    "from tensorflow.contrib import rnn\n",
    "\n",
    "import pandas as pd\n",
    "import numpy as np\n",
    "import spacy\n",
    "import seaborn as sns\n",
    "import matplotlib.pyplot as plt\n",
    "%matplotlib inline\n",
    "\n",
    "nlp = spacy.load('en')\n",
    "\n",
    "dtypes ={\n",
    "    'id': np.uint32,\n",
    "    'qid1': np.uint32,\n",
    "    'qid2': np.uint32,\n",
    "    'question1': np.str,\n",
    "    'question2': np.str,\n",
    "    'is_duplicate': np.uint8\n",
    "}\n",
    "\n",
    "df = pd.read_csv('../../dataset/quora_train.csv', dtype=dtypes, usecols=['question1', 'question2', 'is_duplicate'], nrows=1000)"
   ]
  },
  {
   "cell_type": "code",
   "execution_count": 77,
   "metadata": {},
   "outputs": [],
   "source": [
    "def pad(v):\n",
    "    zeros = np.zeros([100, 300])\n",
    "    zeros[:v.shape[0],:v.shape[1]] = v\n",
    "    return zeros\n",
    "    \n",
    "q1s = df['question1'].map(nlp).map(lambda x: np.matrix([t.vector for t in x])).map(pad)\n",
    "q2s = df['question1'].map(nlp).map(lambda x: np.matrix([t.vector for t in x])).map(pad)\n",
    "\n",
    "q1m = np.concatenate(q1s.values).flatten().reshape([1000, 100, 300])\n",
    "q2m = np.concatenate(q2s.values).flatten().reshape([1000, 100, 300])"
   ]
  },
  {
   "cell_type": "code",
   "execution_count": 106,
   "metadata": {},
   "outputs": [],
   "source": [
    "tf.reset_default_graph()\n",
    "\n",
    "Q1 = tf.placeholder(tf.float32, shape=[None, 100, 300])\n",
    "Q2 = tf.placeholder(tf.float32, shape=[None, 100, 300])\n",
    "\n",
    "cell1 = rnn.BasicRNNCell(128)\n",
    "cell2 = rnn.BasicRNNCell(128, reuse=True)\n",
    "state = tf.get_variable(shape=[1000, 128], initializer=tf.zeros_initializer(), name='state')\n",
    "\n",
    "outputs1, state = tf.nn.dynamic_rnn(cell1, Q1, initial_state=state)\n",
    "outputs2, state = tf.nn.dynamic_rnn(cell2, Q2, initial_state=state)"
   ]
  },
  {
   "cell_type": "code",
   "execution_count": 118,
   "metadata": {},
   "outputs": [
    {
     "name": "stdout",
     "output_type": "stream",
     "text": [
      "(1000, 128)\n"
     ]
    }
   ],
   "source": [
    "sess = tf.Session()\n",
    "sess.run(tf.global_variables_initializer())\n",
    "print(sess.run(outputs1, feed_dict={Q1: q1m})[:,-1,:].shape)"
   ]
  },
  {
   "cell_type": "code",
   "execution_count": 123,
   "metadata": {},
   "outputs": [
    {
     "data": {
      "text/plain": [
       "<tf.Tensor 'rnn/transpose:0' shape=(1000, 100, 128) dtype=float32>"
      ]
     },
     "execution_count": 123,
     "metadata": {},
     "output_type": "execute_result"
    }
   ],
   "source": [
    "outputs1"
   ]
  },
  {
   "cell_type": "code",
   "execution_count": null,
   "metadata": {
    "collapsed": true
   },
   "outputs": [],
   "source": []
  }
 ],
 "metadata": {
  "kernelspec": {
   "display_name": "Python 3",
   "language": "python",
   "name": "python3"
  },
  "language_info": {
   "codemirror_mode": {
    "name": "ipython",
    "version": 3
   },
   "file_extension": ".py",
   "mimetype": "text/x-python",
   "name": "python",
   "nbconvert_exporter": "python",
   "pygments_lexer": "ipython3",
   "version": "3.6.1"
  }
 },
 "nbformat": 4,
 "nbformat_minor": 2
}
