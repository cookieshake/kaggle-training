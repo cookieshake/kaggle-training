{
 "cells": [
  {
   "cell_type": "code",
   "execution_count": 1,
   "metadata": {
    "collapsed": true
   },
   "outputs": [],
   "source": [
    "import spacy\n",
    "\n",
    "nlp = spacy.load('en')"
   ]
  },
  {
   "cell_type": "code",
   "execution_count": 20,
   "metadata": {
    "collapsed": false
   },
   "outputs": [
    {
     "data": {
      "text/plain": [
       "[(What, 'attr', 'WP'),\n",
       " (are, 'ROOT', 'VBP'),\n",
       " (some, 'det', 'DT'),\n",
       " (mind, 'npadvmod', 'NN'),\n",
       " (-, 'punct', 'HYPH'),\n",
       " (blowing, 'amod', 'VBG'),\n",
       " (computer, 'compound', 'NN'),\n",
       " (tools, 'attr', 'NNS'),\n",
       " (that, 'nsubj', 'WDT'),\n",
       " (exist, 'relcl', 'VBP'),\n",
       " (that, 'pobj||prep', 'IN'),\n",
       " (most, 'amod', 'JJS'),\n",
       " (people, 'nsubj', 'NNS'),\n",
       " (do, 'aux', 'VBP'),\n",
       " (n't, 'neg', 'RB'),\n",
       " (know, 'ccomp', 'VB'),\n",
       " (about, 'prep', 'IN'),\n",
       " (?, 'punct', '.')]"
      ]
     },
     "execution_count": 20,
     "metadata": {},
     "output_type": "execute_result"
    }
   ],
   "source": [
    "[(t,t.dep_, t.tag_) for t in nlp(\"What are some mind-blowing computer tools that exist that most people don't know about?\")]"
   ]
  },
  {
   "cell_type": "code",
   "execution_count": null,
   "metadata": {
    "collapsed": true
   },
   "outputs": [],
   "source": []
  }
 ],
 "metadata": {
  "kernelspec": {
   "display_name": "Python 3",
   "language": "python",
   "name": "python3"
  },
  "language_info": {
   "codemirror_mode": {
    "name": "ipython",
    "version": 3
   },
   "file_extension": ".py",
   "mimetype": "text/x-python",
   "name": "python",
   "nbconvert_exporter": "python",
   "pygments_lexer": "ipython3",
   "version": "3.5.1"
  }
 },
 "nbformat": 4,
 "nbformat_minor": 2
}
