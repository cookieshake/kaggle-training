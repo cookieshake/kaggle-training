{
 "cells": [
  {
   "cell_type": "markdown",
   "metadata": {},
   "source": [
    "# Hotel Base"
   ]
  },
  {
   "cell_type": "code",
   "execution_count": 1,
   "metadata": {
    "collapsed": true
   },
   "outputs": [],
   "source": [
    "import pandas as pd\n",
    "import numpy as np\n",
    "\n",
    "from collections import defaultdict\n",
    "\n",
    "# For memory efficiency\n",
    "dtypes = {\n",
    "    'site_name': np.uint8,\n",
    "    'posa_continent': np.uint8,\n",
    "    'user_location_country': np.uint8,\n",
    "    'user_location_region': np.uint16,\n",
    "    'user_location_city': np.uint16,\n",
    "    'orig_destination_distance': np.float16,\n",
    "    'user_id': np.uint32,\n",
    "    'is_mobile': np.uint8,\n",
    "    'is_package': np.uint8,\n",
    "    'channel': np.uint8,\n",
    "    'srch_adults_cnt': np.uint8,\n",
    "    'srch_children_cnt': np.uint8,\n",
    "    'srch_rm_cnt': np.uint8,\n",
    "    'srch_destination_id': np.uint16,\n",
    "    'srch_destination_type_id': np.uint16,\n",
    "    'is_booking': np.uint8,\n",
    "    'cnt': np.uint8,\n",
    "    'hotel_continent': np.uint8,\n",
    "    'hotel_country': np.uint8,\n",
    "    'hotel_cluster': np.uint8\n",
    "}\n",
    "\n",
    "def _float_fac():\n",
    "    return np.float16\n",
    "\n",
    "df_train = pd.read_csv('../dataset/hotel_train.csv', dtype=dtypes, nrows=100000)\n",
    "df_dest = pd.read_csv('../dataset/destinations.csv', dtype=np.float32)\n",
    "df = pd.merge(df_train, df_dest, how='left', on='srch_destination_id')\n",
    "\n",
    "del df_train\n",
    "del df_dest"
   ]
  },
  {
   "cell_type": "markdown",
   "metadata": {},
   "source": [
    "### Parse Date & Time"
   ]
  },
  {
   "cell_type": "code",
   "execution_count": 2,
   "metadata": {
    "collapsed": true
   },
   "outputs": [],
   "source": [
    "from datetime import datetime\n",
    "\n",
    "def parse_date(d):\n",
    "    if type(d) is int:\n",
    "        d = datetime.fromtimestamp(d / 1000000000).isoformat()\n",
    "    if str(d) == 'nan':\n",
    "        d = '2013-01-01'\n",
    "        \n",
    "    return np.datetime64(str(d))\n",
    "\n",
    "\n",
    "df['date_time'] = df['date_time'].map(parse_date)\n",
    "df['srch_co'] = df['srch_co'].map(parse_date)\n",
    "df['srch_ci'] = df['srch_ci'].map(parse_date)"
   ]
  },
  {
   "cell_type": "markdown",
   "metadata": {},
   "source": [
    "### Make new features with time data and others"
   ]
  },
  {
   "cell_type": "code",
   "execution_count": 3,
   "metadata": {
    "collapsed": true
   },
   "outputs": [],
   "source": [
    "df['days'] = (df['srch_co'] - df['srch_ci']).map(lambda d: d.days)\n",
    "df['month'] = df['date_time'].map(lambda d: d.month - 1)\n",
    "df['hour'] = df['date_time'].map(lambda d: d.hour - 1)\n",
    "\n",
    "df['people'] = df['srch_adults_cnt'] + df['srch_children_cnt']\n",
    "\n",
    "del df['srch_co']\n",
    "del df['srch_ci']\n",
    "del df['date_time']"
   ]
  },
  {
   "cell_type": "markdown",
   "metadata": {},
   "source": [
    "### Fill empty values in column 'orig_destination_distance'"
   ]
  },
  {
   "cell_type": "code",
   "execution_count": 4,
   "metadata": {
    "collapsed": true
   },
   "outputs": [],
   "source": [
    "means = df[['posa_continent', 'hotel_continent', 'orig_destination_distance']].groupby(['posa_continent', 'hotel_continent']).mean()\n",
    "means = means['orig_destination_distance'].reset_index().fillna(2000)\n",
    "\n",
    "means['avg_distance'] = means['orig_destination_distance']\n",
    "\n",
    "df = pd.merge(df, means, how='left')\n",
    "df['orig_destination_distance'] = df['orig_destination_distance'].fillna(df['avg_distance'])\n",
    "\n",
    "del means\n",
    "del df['avg_distance']\n",
    "df = df.fillna(-1)"
   ]
  },
  {
   "cell_type": "markdown",
   "metadata": {},
   "source": [
    "### One-Hot Encoding"
   ]
  },
  {
   "cell_type": "code",
   "execution_count": 5,
   "metadata": {
    "collapsed": true
   },
   "outputs": [],
   "source": [
    "from sklearn.preprocessing import OneHotEncoder as ohe\n",
    "\n",
    "categorical_columns = {'site_name': 54, 'posa_continent': 5, 'user_location_country': 240, 'user_location_region': 1026,\n",
    "                'channel': 11, 'srch_destination_type_id': 10,\n",
    "                'hotel_continent': 7, 'hotel_country': 213, 'hotel_market': 2118, 'month': 12, 'hour': 24}\n",
    "\n",
    "for c, v in categorical_columns.items():\n",
    "    columns = [c + str(i) for i in range(v)]\n",
    "    one_hot = np.zeros([df.shape[0], v], dtype=np.uint8)\n",
    "    one_hot[np.arange(df.shape[0]), df[c].values] = 1\n",
    "    np.put(one_hot, [v], 1)\n",
    "    df = pd.concat([df, pd.DataFrame(one_hot, columns=columns, dtype=np.uint8)], axis=1)\n",
    "\n",
    "del df['srch_destination_id']\n",
    "del df['user_location_city']"
   ]
  },
  {
   "cell_type": "markdown",
   "metadata": {},
   "source": [
    "### Build Test/Train Set"
   ]
  },
  {
   "cell_type": "code",
   "execution_count": 6,
   "metadata": {
    "collapsed": true
   },
   "outputs": [],
   "source": [
    "\n",
    "X = df.drop('hotel_cluster', axis=1).values\n",
    "y = df['hotel_cluster'].values\n",
    "\n",
    "from sklearn.model_selection import train_test_split\n",
    "\n",
    "X_train, X_test, y_train, y_test = train_test_split(X, y, test_size=0.33, random_state=42)"
   ]
  },
  {
   "cell_type": "markdown",
   "metadata": {},
   "source": [
    "### Build Random Forest Model"
   ]
  },
  {
   "cell_type": "code",
   "execution_count": null,
   "metadata": {},
   "outputs": [],
   "source": [
    "from sklearn.ensemble import RandomForestClassifier\n",
    "\n",
    "clf = RandomForestClassifier(max_depth=25, n_estimators=100, n_jobs=2)\n",
    "clf.fit(X_train, y_train)"
   ]
  },
  {
   "cell_type": "markdown",
   "metadata": {},
   "source": [
    "### Validation"
   ]
  },
  {
   "cell_type": "code",
   "execution_count": null,
   "metadata": {
    "collapsed": true
   },
   "outputs": [],
   "source": [
    "proba = clf.predict_proba(X_test)\n",
    "\n",
    "count = 0\n",
    "for p, y in zip(proba, y_test):\n",
    "    if y in np.argsort(p)[-5:]:\n",
    "        count += 1\n",
    "        \n",
    "count / len(y_test)"
   ]
  }
 ],
 "metadata": {
  "kernelspec": {
   "display_name": "Python 3",
   "language": "python",
   "name": "python3"
  },
  "language_info": {
   "codemirror_mode": {
    "name": "ipython",
    "version": 3
   },
   "file_extension": ".py",
   "mimetype": "text/x-python",
   "name": "python",
   "nbconvert_exporter": "python",
   "pygments_lexer": "ipython3",
   "version": "3.6.1"
  }
 },
 "nbformat": 4,
 "nbformat_minor": 2
}
