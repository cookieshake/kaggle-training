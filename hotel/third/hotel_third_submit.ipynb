{
 "cells": [
  {
   "cell_type": "markdown",
   "metadata": {
    "deletable": true,
    "editable": true
   },
   "source": [
    "# Hotel Third Submission\n",
    "\n",
    "Trained Random Forest Classifier with 1/200 training set."
   ]
  },
  {
   "cell_type": "code",
   "execution_count": 1,
   "metadata": {
    "collapsed": true,
    "deletable": true,
    "editable": true
   },
   "outputs": [],
   "source": [
    "import pandas as pd\n",
    "import numpy as np\n",
    "\n",
    "# For memory efficiency\n",
    "dtypes = {\n",
    "    'site_name': np.uint8,\n",
    "    'posa_continent': np.uint8,\n",
    "    'user_location_country': np.uint8,\n",
    "    'user_location_region': np.uint16,\n",
    "    'user_location_city': np.uint16,\n",
    "    'orig_destination_distance': np.float16,\n",
    "    'user_id': np.uint32,\n",
    "    'is_mobile': np.uint8,\n",
    "    'is_package': np.uint8,\n",
    "    'channel': np.uint8,\n",
    "    'srch_adults_cnt': np.uint8,\n",
    "    'srch_children_cnt': np.uint8,\n",
    "    'srch_rm_cnt': np.uint8,\n",
    "    'srch_destination_id': np.uint16,\n",
    "    'srch_destination_type_id': np.uint16,\n",
    "    'is_booking': np.uint8,\n",
    "    'cnt': np.uint8,\n",
    "    'hotel_continent': np.uint8,\n",
    "    'hotel_country': np.uint8,\n",
    "    'hotel_cluster': np.uint8\n",
    "}\n",
    "\n",
    "df_test = pd.read_csv('../dataset/hotel_test.csv', dtype=dtypes, iterator=True, chunksize=10000)\n",
    "df_dest = pd.read_csv('../dataset/destinations.csv', dtype=np.float32)"
   ]
  },
  {
   "cell_type": "code",
   "execution_count": 2,
   "metadata": {
    "collapsed": true,
    "deletable": true,
    "editable": true
   },
   "outputs": [],
   "source": [
    "def transform(df):\n",
    "    ### Parse Date & Time\n",
    "    from datetime import datetime\n",
    "\n",
    "    def parse_date(d):\n",
    "        if type(d) is int:\n",
    "            d = datetime.fromtimestamp(d / 1000000000).isoformat()\n",
    "        if str(d) == 'nan':\n",
    "            d = '2013-01-01'\n",
    "\n",
    "        try:\n",
    "            return np.datetime64(str(d))\n",
    "        except:\n",
    "            return np.datetime64('2013-01-01')\n",
    "\n",
    "\n",
    "    df['date_time'] = df['date_time'].map(parse_date)\n",
    "    df['srch_co'] = df['srch_co'].map(parse_date)\n",
    "    df['srch_ci'] = df['srch_ci'].map(parse_date)\n",
    "\n",
    "    ### Make new features with time data and others\n",
    "    df['days'] = (df['srch_co'] - df['srch_ci']).map(lambda d: d.days)\n",
    "    df['month'] = df['date_time'].map(lambda d: d.month - 1)\n",
    "    df['hour'] = df['date_time'].map(lambda d: d.hour - 1)\n",
    "\n",
    "    df['people'] = df['srch_adults_cnt'] + df['srch_children_cnt']\n",
    "\n",
    "    del df['srch_co']\n",
    "    del df['srch_ci']\n",
    "    del df['date_time']\n",
    "    \n",
    "    ### Fill empty values in column 'orig_destination_distance'\n",
    "    means = df[['posa_continent', 'hotel_continent', 'orig_destination_distance']].groupby(['posa_continent', 'hotel_continent']).mean()\n",
    "    means = means['orig_destination_distance'].reset_index().fillna(2000)\n",
    "\n",
    "    means['avg_distance'] = means['orig_destination_distance']\n",
    "\n",
    "    df = pd.merge(df, means, how='left')\n",
    "    df['orig_destination_distance'] = df['orig_destination_distance'].fillna(df['avg_distance'])\n",
    "\n",
    "    del means\n",
    "    del df['avg_distance']\n",
    "    df = df.fillna(-1)\n",
    "\n",
    "    ### One-Hot Encoding\n",
    "    from sklearn.preprocessing import OneHotEncoder as ohe\n",
    "\n",
    "    categorical_columns = {'site_name': 54, 'posa_continent': 5, 'user_location_country': 240, 'user_location_region': 1028,\n",
    "                    'channel': 11, 'srch_destination_type_id': 10,\n",
    "                    'hotel_continent': 7, 'hotel_country': 213, 'hotel_market': 2118, 'month': 12, 'hour': 24}\n",
    "\n",
    "    for c, v in categorical_columns.items():\n",
    "        columns = [c + str(i) for i in range(v)]\n",
    "        one_hot = np.zeros([df.shape[0], v], dtype=np.uint8)\n",
    "        one_hot[np.arange(df.shape[0]), df[c].values] = 1\n",
    "        np.put(one_hot, [v], 1)\n",
    "        df = pd.concat([df, pd.DataFrame(one_hot, columns=columns, dtype=np.uint8)], axis=1)\n",
    "\n",
    "        del df[c]\n",
    "\n",
    "    del df['srch_destination_id']\n",
    "    del df['user_location_city']\n",
    "    del df['user_id']\n",
    "    \n",
    "    return df"
   ]
  },
  {
   "cell_type": "markdown",
   "metadata": {
    "deletable": true,
    "editable": true
   },
   "source": [
    "### Validation"
   ]
  },
  {
   "cell_type": "code",
   "execution_count": 5,
   "metadata": {
    "collapsed": false,
    "deletable": true,
    "editable": true
   },
   "outputs": [
    {
     "name": "stderr",
     "output_type": "stream",
     "text": [
      "253it [08:01,  1.77s/it]\n"
     ]
    }
   ],
   "source": [
    "import pickle\n",
    "import numpy as np\n",
    "from tqdm import tqdm\n",
    "\n",
    "output = open('prediction.txt', 'w')\n",
    "output.write('id,hotel_cluster\\n')\n",
    "\n",
    "clf = pickle.load(open('hotel_clf_200.pickle', 'rb'))\n",
    "\n",
    "for d in tqdm(df_test):\n",
    "    d = pd.merge(d, df_dest, how='left', on='srch_destination_id')\n",
    "    d = transform(d)\n",
    "    X = d.drop('id', axis=1)\n",
    "\n",
    "    proba = clf.predict_proba(X.values)\n",
    "    for i, p in zip(d['id'], proba):\n",
    "        top5 = np.argsort(p)[-5:]\n",
    "        result = [str(r) for r in list(top5)]\n",
    "        output.write('{},{}\\n'.format(i, ' '.join(result)))\n",
    "\n",
    "output.close()"
   ]
  },
  {
   "cell_type": "markdown",
   "metadata": {},
   "source": [
    "### Score: 0.14567"
   ]
  }
 ],
 "metadata": {
  "kernelspec": {
   "display_name": "Python 3",
   "language": "python",
   "name": "python3"
  },
  "language_info": {
   "codemirror_mode": {
    "name": "ipython",
    "version": 3
   },
   "file_extension": ".py",
   "mimetype": "text/x-python",
   "name": "python",
   "nbconvert_exporter": "python",
   "pygments_lexer": "ipython3",
   "version": "3.5.1"
  }
 },
 "nbformat": 4,
 "nbformat_minor": 2
}
