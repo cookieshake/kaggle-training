{
 "cells": [
  {
   "cell_type": "markdown",
   "metadata": {
    "deletable": true,
    "editable": true
   },
   "source": [
    "# Hotel Sampling\n",
    "\n",
    "Let's make the training dataset smaller!"
   ]
  },
  {
   "cell_type": "code",
   "execution_count": 1,
   "metadata": {
    "collapsed": false,
    "deletable": true,
    "editable": true
   },
   "outputs": [],
   "source": [
    "t_data = open('../dataset/hotel_train.csv')\n",
    "output = open('../dataset/hotel_train_200.csv', 'w')\n",
    "\n",
    "count = 0\n",
    "for row in t_data:\n",
    "    if count % 200 == 0:\n",
    "        output.write(row)\n",
    "    count += 1\n",
    "    del row\n",
    "\n",
    "t_data.close()\n",
    "output.close()"
   ]
  }
 ],
 "metadata": {
  "kernelspec": {
   "display_name": "Python 3",
   "language": "python",
   "name": "python3"
  },
  "language_info": {
   "codemirror_mode": {
    "name": "ipython",
    "version": 3
   },
   "file_extension": ".py",
   "mimetype": "text/x-python",
   "name": "python",
   "nbconvert_exporter": "python",
   "pygments_lexer": "ipython3",
   "version": "3.5.1"
  }
 },
 "nbformat": 4,
 "nbformat_minor": 2
}
