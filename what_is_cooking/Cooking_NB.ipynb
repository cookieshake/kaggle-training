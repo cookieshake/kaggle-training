{
 "cells": [
  {
   "cell_type": "code",
   "execution_count": 1,
   "metadata": {},
   "outputs": [
    {
     "data": {
      "text/plain": [
       "[{'cuisine': 'greek',\n",
       "  'id': 10259,\n",
       "  'ingredients': ['romaine lettuce',\n",
       "   'black olives',\n",
       "   'grape tomatoes',\n",
       "   'garlic',\n",
       "   'pepper',\n",
       "   'purple onion',\n",
       "   'seasoning',\n",
       "   'garbanzo beans',\n",
       "   'feta cheese crumbles']},\n",
       " {'cuisine': 'southern_us',\n",
       "  'id': 25693,\n",
       "  'ingredients': ['plain flour',\n",
       "   'ground pepper',\n",
       "   'salt',\n",
       "   'tomatoes',\n",
       "   'ground black pepper',\n",
       "   'thyme',\n",
       "   'eggs',\n",
       "   'green tomatoes',\n",
       "   'yellow corn meal',\n",
       "   'milk',\n",
       "   'vegetable oil']},\n",
       " {'cuisine': 'filipino',\n",
       "  'id': 20130,\n",
       "  'ingredients': ['eggs',\n",
       "   'pepper',\n",
       "   'salt',\n",
       "   'mayonaise',\n",
       "   'cooking oil',\n",
       "   'green chilies',\n",
       "   'grilled chicken breasts',\n",
       "   'garlic powder',\n",
       "   'yellow onion',\n",
       "   'soy sauce',\n",
       "   'butter',\n",
       "   'chicken livers']}]"
      ]
     },
     "execution_count": 1,
     "metadata": {},
     "output_type": "execute_result"
    }
   ],
   "source": [
    "import json\n",
    "\n",
    "cookings = json.loads(open('./dataset/cooking_train.json').read())\n",
    "cookings[:3]"
   ]
  },
  {
   "cell_type": "code",
   "execution_count": 2,
   "metadata": {},
   "outputs": [
    {
     "data": {
      "text/plain": [
       "(6714, 20)"
      ]
     },
     "execution_count": 2,
     "metadata": {},
     "output_type": "execute_result"
    }
   ],
   "source": [
    "ingredients_dict = dict()\n",
    "regions = list()\n",
    "\n",
    "for c in cookings:\n",
    "    regions.append(c['cuisine'])\n",
    "    for i in c['ingredients']:\n",
    "        ingredients_dict[i] = ingredients_dict[i] + 1 if i in ingredients_dict else 1\n",
    "        \n",
    "regions = list(set(regions))\n",
    "ingredients = list(ingredients_dict.keys())\n",
    "ingredients = list(reversed(sorted(ingredients, key=lambda x: ingredients_dict[x])))\n",
    "\n",
    "len(ingredients), len(regions)"
   ]
  },
  {
   "cell_type": "code",
   "execution_count": 3,
   "metadata": {
    "collapsed": true
   },
   "outputs": [],
   "source": [
    "ingredients = ingredients[:2000]"
   ]
  },
  {
   "cell_type": "code",
   "execution_count": 4,
   "metadata": {},
   "outputs": [
    {
     "data": {
      "text/plain": [
       "39774"
      ]
     },
     "execution_count": 4,
     "metadata": {},
     "output_type": "execute_result"
    }
   ],
   "source": [
    "len(cookings)"
   ]
  },
  {
   "cell_type": "code",
   "execution_count": 5,
   "metadata": {},
   "outputs": [
    {
     "name": "stdout",
     "output_type": "stream",
     "text": [
      "5000\n",
      "10000\n",
      "15000\n",
      "20000\n",
      "25000\n",
      "30000\n",
      "35000\n"
     ]
    }
   ],
   "source": [
    "import numpy as np\n",
    "\n",
    "cookings_ins = list()\n",
    "cookings_regs = list()\n",
    "\n",
    "count = 1\n",
    "for c in cookings:\n",
    "    cookings_regs.append(regions.index(c['cuisine']))\n",
    "    \n",
    "    row = list()\n",
    "    for i in ingredients:\n",
    "        row.append(1 if i in c['ingredients'] else 0)\n",
    "    row.append(len(ingredients))\n",
    "    row_arr = np.array(row, dtype=np.uint16)\n",
    "    del row\n",
    "    \n",
    "    cookings_ins.append(row_arr)\n",
    "    \n",
    "    if count % 5000 == 0:\n",
    "        print(count)\n",
    "    count += 1\n",
    "\n",
    "cookings_ins_arr = np.array(cookings_ins)\n",
    "cookings_regs_arr = np.array(cookings_regs, dtype=np.uint16)\n",
    "\n",
    "del cookings_ins\n",
    "del cookings_regs"
   ]
  },
  {
   "cell_type": "code",
   "execution_count": 6,
   "metadata": {
    "collapsed": true
   },
   "outputs": [],
   "source": [
    "from sklearn.model_selection import train_test_split\n",
    "\n",
    "X_train, X_test, y_train, y_test = train_test_split(cookings_ins_arr, cookings_regs_arr, test_size=0.33, random_state=17)"
   ]
  },
  {
   "cell_type": "code",
   "execution_count": 7,
   "metadata": {},
   "outputs": [
    {
     "data": {
      "text/plain": [
       "MultinomialNB(alpha=1.0, class_prior=None, fit_prior=True)"
      ]
     },
     "execution_count": 7,
     "metadata": {},
     "output_type": "execute_result"
    }
   ],
   "source": [
    "from sklearn.naive_bayes import MultinomialNB\n",
    "\n",
    "clf = MultinomialNB()\n",
    "clf.fit(X_train, y_train)"
   ]
  },
  {
   "cell_type": "code",
   "execution_count": 8,
   "metadata": {},
   "outputs": [
    {
     "data": {
      "text/plain": [
       "0.73464878866372085"
      ]
     },
     "execution_count": 8,
     "metadata": {},
     "output_type": "execute_result"
    }
   ],
   "source": [
    "clf.score(X_test, y_test)"
   ]
  },
  {
   "cell_type": "code",
   "execution_count": 9,
   "metadata": {},
   "outputs": [
    {
     "data": {
      "text/plain": [
       "array([  1.05515236e-03,   2.59277761e-04,   1.65129894e-03,\n",
       "         1.18145940e-04,   1.06906297e-04,   1.45222821e-02,\n",
       "         2.66802216e-05,   3.82235324e-01,   1.31324531e-03,\n",
       "         5.55906876e-01,   3.75446240e-04,   2.58143524e-03,\n",
       "         1.50681321e-02,   3.38033968e-05,   2.49396091e-04,\n",
       "         1.36581142e-05,   1.81217973e-03,   1.31004460e-05,\n",
       "         3.40672036e-03,   1.92509393e-02])"
      ]
     },
     "execution_count": 9,
     "metadata": {},
     "output_type": "execute_result"
    }
   ],
   "source": [
    "clf.predict_proba(X_test[10:11]).reshape([-1])"
   ]
  },
  {
   "cell_type": "code",
   "execution_count": null,
   "metadata": {
    "collapsed": true
   },
   "outputs": [],
   "source": []
  }
 ],
 "metadata": {
  "kernelspec": {
   "display_name": "Python 3",
   "language": "python",
   "name": "python3"
  },
  "language_info": {
   "codemirror_mode": {
    "name": "ipython",
    "version": 3
   },
   "file_extension": ".py",
   "mimetype": "text/x-python",
   "name": "python",
   "nbconvert_exporter": "python",
   "pygments_lexer": "ipython3",
   "version": "3.6.1"
  }
 },
 "nbformat": 4,
 "nbformat_minor": 2
}
